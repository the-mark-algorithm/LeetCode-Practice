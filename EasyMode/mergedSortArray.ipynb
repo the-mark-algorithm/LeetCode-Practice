{
 "cells": [
  {
   "attachments": {},
   "cell_type": "markdown",
   "metadata": {},
   "source": [
    "#### Prompt:\n",
    "\n",
    "    You are given two integer arrays nums1 and nums2, sorted in non-decreasing order, and two integers m and n, representing the number of elements in nums1 and nums2 respectively.\n",
    "\n",
    "    Merge nums1 and nums2 into a single array sorted in non-decreasing order.\n",
    "\n",
    "    The final sorted array should not be returned by the function, but instead be stored inside the array nums1. To accommodate this, nums1 has a length of m + n, where the first m elements denote the elements that should be merged, and the last n elements are set to 0 and should be ignored. nums2 has a length of n."
   ]
  },
  {
   "attachments": {},
   "cell_type": "markdown",
   "metadata": {},
   "source": [
    "##### Example 1:\n",
    "\n",
    "Input: nums1 = [1, 2, 3, 0, 0, 0], m = 3, nums2 = [2, 5, 6], n = 3\n",
    "<br>\n",
    "<br>\n",
    "Output: [1, 2, 2, 3, 5, 6]\n",
    "<br>\n",
    "<br>\n",
    "Explanation: The arrays we are merging are [1, 2, 3] and [2, 5, 6].\n",
    "The result of the merge is [1, 2, 2, 3, 5, 6] with the underlined elements coming from nums1."
   ]
  },
  {
   "attachments": {},
   "cell_type": "markdown",
   "metadata": {},
   "source": [
    "#### Example 2:\n",
    "\n",
    "Input: nums1 = [1], m = 1, nums2 = [], n = 0\n",
    "<br>\n",
    "<br>\n",
    "Output: [1]\n",
    "<br>\n",
    "<br>\n",
    "Explanation: The arrays we are merging are [1] and [].\n",
    "The result of the merge is [1].\n"
   ]
  },
  {
   "attachments": {},
   "cell_type": "markdown",
   "metadata": {},
   "source": [
    "#### Example 3:\n",
    "\n",
    "\n",
    "Input: nums1 = [0], m = 0, nums2 = [1], n = 1\n",
    "<br>\n",
    "<br>\n",
    "Output: [1]\n",
    "<br>\n",
    "<br>\n",
    "Explanation: The arrays we are merging are [] and [1].\n",
    "The result of the merge is [1].\n",
    "Note that because m = 0, there are no elements in nums1. The 0 is only there to ensure the merge result can fit in nums1."
   ]
  },
  {
   "attachments": {},
   "cell_type": "markdown",
   "metadata": {},
   "source": [
    "#### Constraints:\n",
    "\n",
    "- nums1.length == m + n\n",
    "- nums2.length == n\n",
    "- 0 <= m, n <= 200\n",
    "- 1 <= m + n <= 200\n",
    "- -109 <= nums1[i], nums2[j] <= 109"
   ]
  },
  {
   "cell_type": "code",
   "execution_count": 18,
   "metadata": {},
   "outputs": [],
   "source": [
    "class Solution:\n",
    "    def merge(self, nums1: list[int], m: int, nums2: list[int], n: int) -> None:\n",
    "        \"\"\"\n",
    "        Do not return anything, modify nums1 in-place instead.\n",
    "        \"\"\"\n",
    "\n",
    "        # move over the numbers in nums1 to the other end\n",
    "   \n",
    "        for i in reversed(list(range(0, m))):\n",
    "            temp  = nums1[i + n] # 0\n",
    "            nums1[i + n] = nums1[i]\n",
    "            nums1[i] = temp\n",
    "\n",
    "        index1 = n\n",
    "        index2 = 0\n",
    "        currIndex = 0\n",
    "       \n",
    "        while True:\n",
    "            if index1 >= m + n:\n",
    "                nums1[currIndex: m + n] = nums2[index2: ]\n",
    "                return\n",
    "            if index2 >= n:\n",
    "                return\n",
    "            \n",
    "            x = nums1[index1]\n",
    "            y = nums2[index2]\n",
    "\n",
    "            if x >= y:\n",
    "                nums1[currIndex] = y # place number in correct position\n",
    "                index2 += 1\n",
    "            else: #nums2 has greater value\n",
    "                nums1[currIndex] = x\n",
    "                index1 += 1\n",
    "\n",
    "            currIndex += 1\n",
    "\n",
    "\n",
    "            \n"
   ]
  },
  {
   "cell_type": "code",
   "execution_count": 19,
   "metadata": {},
   "outputs": [
    {
     "name": "stdout",
     "output_type": "stream",
     "text": [
      "[1, 2, 2, 3, 5, 6]\n"
     ]
    }
   ],
   "source": [
    "nums1 = [1, 2, 3, 0, 0, 0]\n",
    "m = 3\n",
    "num2 = [2, 5, 6]\n",
    "n = 3\n",
    "\n",
    "sol = Solution()\n",
    "sol.merge(nums1=nums1, m=m, nums2=num2, n=n)\n",
    "print(nums1)"
   ]
  },
  {
   "cell_type": "code",
   "execution_count": 20,
   "metadata": {},
   "outputs": [
    {
     "name": "stdout",
     "output_type": "stream",
     "text": [
      "[1]\n"
     ]
    }
   ],
   "source": [
    "nums1 = [1]\n",
    "m = 1\n",
    "num2 = []\n",
    "n = 0\n",
    "\n",
    "sol = Solution()\n",
    "sol.merge(nums1=nums1, m=m, nums2=num2, n=n)\n",
    "print(nums1)"
   ]
  },
  {
   "attachments": {},
   "cell_type": "markdown",
   "metadata": {},
   "source": [
    "#### Follow up: \n",
    "\n",
    "Can you come up with an algorithm that runs in O(m + n) time?\n",
    "\n"
   ]
  },
  {
   "cell_type": "code",
   "execution_count": null,
   "metadata": {},
   "outputs": [],
   "source": []
  }
 ],
 "metadata": {
  "kernelspec": {
   "display_name": "Python 3",
   "language": "python",
   "name": "python3"
  },
  "language_info": {
   "codemirror_mode": {
    "name": "ipython",
    "version": 3
   },
   "file_extension": ".py",
   "mimetype": "text/x-python",
   "name": "python",
   "nbconvert_exporter": "python",
   "pygments_lexer": "ipython3",
   "version": "3.11.3"
  },
  "orig_nbformat": 4
 },
 "nbformat": 4,
 "nbformat_minor": 2
}
